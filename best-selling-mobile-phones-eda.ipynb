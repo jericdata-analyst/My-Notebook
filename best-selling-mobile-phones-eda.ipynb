{
 "cells": [
  {
   "cell_type": "markdown",
   "id": "df211b45",
   "metadata": {
    "papermill": {
     "duration": 0.027202,
     "end_time": "2023-09-08T07:35:02.695498",
     "exception": false,
     "start_time": "2023-09-08T07:35:02.668296",
     "status": "completed"
    },
    "tags": []
   },
   "source": [
    "# <div style='background-color:skyblue; color:black; padding:15px; font-size:25px;text-align:center'>Best Selling Mobile Phones</div>"
   ]
  },
  {
   "cell_type": "code",
   "execution_count": 1,
   "id": "65689c81",
   "metadata": {
    "_cell_guid": "b1076dfc-b9ad-4769-8c92-a6c4dae69d19",
    "_uuid": "8f2839f25d086af736a60e9eeb907d3b93b6e0e5",
    "execution": {
     "iopub.execute_input": "2023-09-08T07:35:02.748103Z",
     "iopub.status.busy": "2023-09-08T07:35:02.747593Z",
     "iopub.status.idle": "2023-09-08T07:35:03.833878Z",
     "shell.execute_reply": "2023-09-08T07:35:03.833159Z"
    },
    "papermill": {
     "duration": 1.115794,
     "end_time": "2023-09-08T07:35:03.836530",
     "exception": false,
     "start_time": "2023-09-08T07:35:02.720736",
     "status": "completed"
    },
    "tags": []
   },
   "outputs": [
    {
     "name": "stdout",
     "output_type": "stream",
     "text": [
      "/kaggle/input/best-selling-mobile-phones/best-selling-mobile-phones.csv\n",
      "/kaggle/input/best-selling-mobile-phones/total-phone-devices-by-company-2021.csv\n",
      "/kaggle/input/best-selling-mobile-phones/mobile-phone-brands-by-country.csv\n",
      "/kaggle/input/best-selling-mobile-phones/Best Selling Mobile Phones 2020.csv\n"
     ]
    }
   ],
   "source": [
    "import numpy as np # linear algebra\n",
    "import pandas as pd # data processing, CSV file I/O (e.g. pd.read_csv)\n",
    "import seaborn as sns\n",
    "import matplotlib.pyplot as plt\n",
    "\n",
    "import os\n",
    "for dirname, _, filenames in os.walk('/kaggle/input'):\n",
    "    for filename in filenames:\n",
    "        print(os.path.join(dirname, filename))"
   ]
  },
  {
   "cell_type": "markdown",
   "id": "1034479e",
   "metadata": {
    "papermill": {
     "duration": 0.025301,
     "end_time": "2023-09-08T07:35:03.888321",
     "exception": false,
     "start_time": "2023-09-08T07:35:03.863020",
     "status": "completed"
    },
    "tags": []
   },
   "source": [
    "# 1. Importing and Loading the data"
   ]
  },
  {
   "cell_type": "code",
   "execution_count": 2,
   "id": "4649ce1a",
   "metadata": {
    "execution": {
     "iopub.execute_input": "2023-09-08T07:35:03.941475Z",
     "iopub.status.busy": "2023-09-08T07:35:03.940901Z",
     "iopub.status.idle": "2023-09-08T07:35:03.954038Z",
     "shell.execute_reply": "2023-09-08T07:35:03.953389Z"
    },
    "papermill": {
     "duration": 0.042269,
     "end_time": "2023-09-08T07:35:03.956184",
     "exception": false,
     "start_time": "2023-09-08T07:35:03.913915",
     "status": "completed"
    },
    "tags": []
   },
   "outputs": [],
   "source": [
    "df = pd.read_csv('/kaggle/input/best-selling-mobile-phones/best-selling-mobile-phones.csv')"
   ]
  },
  {
   "cell_type": "code",
   "execution_count": 3,
   "id": "b952fbcc",
   "metadata": {
    "execution": {
     "iopub.execute_input": "2023-09-08T07:35:04.010047Z",
     "iopub.status.busy": "2023-09-08T07:35:04.009465Z",
     "iopub.status.idle": "2023-09-08T07:35:04.030793Z",
     "shell.execute_reply": "2023-09-08T07:35:04.029897Z"
    },
    "papermill": {
     "duration": 0.051131,
     "end_time": "2023-09-08T07:35:04.033547",
     "exception": false,
     "start_time": "2023-09-08T07:35:03.982416",
     "status": "completed"
    },
    "tags": []
   },
   "outputs": [
    {
     "data": {
      "text/html": [
       "<div>\n",
       "<style scoped>\n",
       "    .dataframe tbody tr th:only-of-type {\n",
       "        vertical-align: middle;\n",
       "    }\n",
       "\n",
       "    .dataframe tbody tr th {\n",
       "        vertical-align: top;\n",
       "    }\n",
       "\n",
       "    .dataframe thead th {\n",
       "        text-align: right;\n",
       "    }\n",
       "</style>\n",
       "<table border=\"1\" class=\"dataframe\">\n",
       "  <thead>\n",
       "    <tr style=\"text-align: right;\">\n",
       "      <th></th>\n",
       "      <th>manufacturer</th>\n",
       "      <th>model</th>\n",
       "      <th>form</th>\n",
       "      <th>smartphone</th>\n",
       "      <th>year</th>\n",
       "      <th>units_sold_m</th>\n",
       "    </tr>\n",
       "  </thead>\n",
       "  <tbody>\n",
       "    <tr>\n",
       "      <th>0</th>\n",
       "      <td>Nokia</td>\n",
       "      <td>1100</td>\n",
       "      <td>Bar</td>\n",
       "      <td>No</td>\n",
       "      <td>2003</td>\n",
       "      <td>250.0</td>\n",
       "    </tr>\n",
       "    <tr>\n",
       "      <th>1</th>\n",
       "      <td>Nokia</td>\n",
       "      <td>1110</td>\n",
       "      <td>Bar</td>\n",
       "      <td>No</td>\n",
       "      <td>2005</td>\n",
       "      <td>247.5</td>\n",
       "    </tr>\n",
       "    <tr>\n",
       "      <th>2</th>\n",
       "      <td>Apple</td>\n",
       "      <td>iPhone 6 and iPhone 6 Plus</td>\n",
       "      <td>Touchscreen</td>\n",
       "      <td>Yes</td>\n",
       "      <td>2014</td>\n",
       "      <td>224.0</td>\n",
       "    </tr>\n",
       "    <tr>\n",
       "      <th>3</th>\n",
       "      <td>Nokia</td>\n",
       "      <td>105 (2013), 105 (2015)</td>\n",
       "      <td>Bar</td>\n",
       "      <td>No</td>\n",
       "      <td>2013</td>\n",
       "      <td>200.0</td>\n",
       "    </tr>\n",
       "    <tr>\n",
       "      <th>4</th>\n",
       "      <td>Apple</td>\n",
       "      <td>iPhone 6S and iPhone 6S Plus</td>\n",
       "      <td>Touchscreen</td>\n",
       "      <td>Yes</td>\n",
       "      <td>2015</td>\n",
       "      <td>174.1</td>\n",
       "    </tr>\n",
       "  </tbody>\n",
       "</table>\n",
       "</div>"
      ],
      "text/plain": [
       "  manufacturer                         model         form smartphone  year  \\\n",
       "0        Nokia                          1100          Bar         No  2003   \n",
       "1        Nokia                          1110          Bar         No  2005   \n",
       "2        Apple    iPhone 6 and iPhone 6 Plus  Touchscreen        Yes  2014   \n",
       "3        Nokia        105 (2013), 105 (2015)          Bar         No  2013   \n",
       "4        Apple  iPhone 6S and iPhone 6S Plus  Touchscreen        Yes  2015   \n",
       "\n",
       "   units_sold_m  \n",
       "0         250.0  \n",
       "1         247.5  \n",
       "2         224.0  \n",
       "3         200.0  \n",
       "4         174.1  "
      ]
     },
     "execution_count": 3,
     "metadata": {},
     "output_type": "execute_result"
    }
   ],
   "source": [
    "df.head()"
   ]
  },
  {
   "cell_type": "code",
   "execution_count": 4,
   "id": "bfcbed22",
   "metadata": {
    "execution": {
     "iopub.execute_input": "2023-09-08T07:35:04.088545Z",
     "iopub.status.busy": "2023-09-08T07:35:04.087953Z",
     "iopub.status.idle": "2023-09-08T07:35:04.100874Z",
     "shell.execute_reply": "2023-09-08T07:35:04.099833Z"
    },
    "papermill": {
     "duration": 0.042943,
     "end_time": "2023-09-08T07:35:04.103250",
     "exception": false,
     "start_time": "2023-09-08T07:35:04.060307",
     "status": "completed"
    },
    "tags": []
   },
   "outputs": [
    {
     "data": {
      "text/html": [
       "<div>\n",
       "<style scoped>\n",
       "    .dataframe tbody tr th:only-of-type {\n",
       "        vertical-align: middle;\n",
       "    }\n",
       "\n",
       "    .dataframe tbody tr th {\n",
       "        vertical-align: top;\n",
       "    }\n",
       "\n",
       "    .dataframe thead th {\n",
       "        text-align: right;\n",
       "    }\n",
       "</style>\n",
       "<table border=\"1\" class=\"dataframe\">\n",
       "  <thead>\n",
       "    <tr style=\"text-align: right;\">\n",
       "      <th></th>\n",
       "      <th>manufacturer</th>\n",
       "      <th>model</th>\n",
       "      <th>form</th>\n",
       "      <th>smartphone</th>\n",
       "      <th>year</th>\n",
       "      <th>units_sold_m</th>\n",
       "    </tr>\n",
       "  </thead>\n",
       "  <tbody>\n",
       "    <tr>\n",
       "      <th>106</th>\n",
       "      <td>LG</td>\n",
       "      <td>G2</td>\n",
       "      <td>Touchscreen</td>\n",
       "      <td>Yes</td>\n",
       "      <td>2013</td>\n",
       "      <td>3.0</td>\n",
       "    </tr>\n",
       "    <tr>\n",
       "      <th>107</th>\n",
       "      <td>LeTV</td>\n",
       "      <td>LeEco Le 1s</td>\n",
       "      <td>Touchscreen</td>\n",
       "      <td>Yes</td>\n",
       "      <td>2016</td>\n",
       "      <td>3.0</td>\n",
       "    </tr>\n",
       "    <tr>\n",
       "      <th>108</th>\n",
       "      <td>Google</td>\n",
       "      <td>Pixel and Pixel XL</td>\n",
       "      <td>Touchscreen</td>\n",
       "      <td>Yes</td>\n",
       "      <td>2016</td>\n",
       "      <td>2.1</td>\n",
       "    </tr>\n",
       "    <tr>\n",
       "      <th>109</th>\n",
       "      <td>Palm</td>\n",
       "      <td>Centro</td>\n",
       "      <td>Keyboard bar</td>\n",
       "      <td>Yes</td>\n",
       "      <td>2007</td>\n",
       "      <td>2.0</td>\n",
       "    </tr>\n",
       "    <tr>\n",
       "      <th>110</th>\n",
       "      <td>Nokia</td>\n",
       "      <td>N97</td>\n",
       "      <td>Tilt slider</td>\n",
       "      <td>Yes</td>\n",
       "      <td>2009</td>\n",
       "      <td>2.0</td>\n",
       "    </tr>\n",
       "  </tbody>\n",
       "</table>\n",
       "</div>"
      ],
      "text/plain": [
       "    manufacturer               model          form smartphone  year  \\\n",
       "106           LG                  G2   Touchscreen        Yes  2013   \n",
       "107         LeTV         LeEco Le 1s   Touchscreen        Yes  2016   \n",
       "108       Google  Pixel and Pixel XL   Touchscreen        Yes  2016   \n",
       "109         Palm              Centro  Keyboard bar        Yes  2007   \n",
       "110        Nokia                 N97   Tilt slider        Yes  2009   \n",
       "\n",
       "     units_sold_m  \n",
       "106           3.0  \n",
       "107           3.0  \n",
       "108           2.1  \n",
       "109           2.0  \n",
       "110           2.0  "
      ]
     },
     "execution_count": 4,
     "metadata": {},
     "output_type": "execute_result"
    }
   ],
   "source": [
    "df.tail()"
   ]
  },
  {
   "cell_type": "markdown",
   "id": "4989f3bd",
   "metadata": {
    "papermill": {
     "duration": 0.027396,
     "end_time": "2023-09-08T07:35:04.159409",
     "exception": false,
     "start_time": "2023-09-08T07:35:04.132013",
     "status": "completed"
    },
    "tags": []
   },
   "source": [
    "## Printing the dimention of the data"
   ]
  },
  {
   "cell_type": "code",
   "execution_count": 5,
   "id": "705a26b1",
   "metadata": {
    "execution": {
     "iopub.execute_input": "2023-09-08T07:35:04.216239Z",
     "iopub.status.busy": "2023-09-08T07:35:04.215947Z",
     "iopub.status.idle": "2023-09-08T07:35:04.220256Z",
     "shell.execute_reply": "2023-09-08T07:35:04.219405Z"
    },
    "papermill": {
     "duration": 0.036772,
     "end_time": "2023-09-08T07:35:04.223432",
     "exception": false,
     "start_time": "2023-09-08T07:35:04.186660",
     "status": "completed"
    },
    "tags": []
   },
   "outputs": [
    {
     "name": "stdout",
     "output_type": "stream",
     "text": [
      "['manufacturer', 'model', 'form', 'smartphone', 'year', 'units_sold_m']\n"
     ]
    }
   ],
   "source": [
    "columns = list(df.columns)  # To print all the columns\n",
    "print(columns)"
   ]
  },
  {
   "cell_type": "code",
   "execution_count": 6,
   "id": "882984f9",
   "metadata": {
    "execution": {
     "iopub.execute_input": "2023-09-08T07:35:04.280824Z",
     "iopub.status.busy": "2023-09-08T07:35:04.280511Z",
     "iopub.status.idle": "2023-09-08T07:35:04.306427Z",
     "shell.execute_reply": "2023-09-08T07:35:04.305395Z"
    },
    "papermill": {
     "duration": 0.05744,
     "end_time": "2023-09-08T07:35:04.308612",
     "exception": false,
     "start_time": "2023-09-08T07:35:04.251172",
     "status": "completed"
    },
    "tags": []
   },
   "outputs": [
    {
     "name": "stdout",
     "output_type": "stream",
     "text": [
      "<class 'pandas.core.frame.DataFrame'>\n",
      "RangeIndex: 111 entries, 0 to 110\n",
      "Data columns (total 6 columns):\n",
      " #   Column        Non-Null Count  Dtype  \n",
      "---  ------        --------------  -----  \n",
      " 0   manufacturer  111 non-null    object \n",
      " 1   model         111 non-null    object \n",
      " 2   form          111 non-null    object \n",
      " 3   smartphone    111 non-null    object \n",
      " 4   year          111 non-null    int64  \n",
      " 5   units_sold_m  111 non-null    float64\n",
      "dtypes: float64(1), int64(1), object(4)\n",
      "memory usage: 5.3+ KB\n"
     ]
    }
   ],
   "source": [
    "df.info()"
   ]
  },
  {
   "cell_type": "code",
   "execution_count": 7,
   "id": "4602838f",
   "metadata": {
    "execution": {
     "iopub.execute_input": "2023-09-08T07:35:04.368035Z",
     "iopub.status.busy": "2023-09-08T07:35:04.367384Z",
     "iopub.status.idle": "2023-09-08T07:35:04.387074Z",
     "shell.execute_reply": "2023-09-08T07:35:04.386245Z"
    },
    "papermill": {
     "duration": 0.050775,
     "end_time": "2023-09-08T07:35:04.389256",
     "exception": false,
     "start_time": "2023-09-08T07:35:04.338481",
     "status": "completed"
    },
    "tags": []
   },
   "outputs": [
    {
     "data": {
      "text/html": [
       "<div>\n",
       "<style scoped>\n",
       "    .dataframe tbody tr th:only-of-type {\n",
       "        vertical-align: middle;\n",
       "    }\n",
       "\n",
       "    .dataframe tbody tr th {\n",
       "        vertical-align: top;\n",
       "    }\n",
       "\n",
       "    .dataframe thead th {\n",
       "        text-align: right;\n",
       "    }\n",
       "</style>\n",
       "<table border=\"1\" class=\"dataframe\">\n",
       "  <thead>\n",
       "    <tr style=\"text-align: right;\">\n",
       "      <th></th>\n",
       "      <th>year</th>\n",
       "      <th>units_sold_m</th>\n",
       "    </tr>\n",
       "  </thead>\n",
       "  <tbody>\n",
       "    <tr>\n",
       "      <th>count</th>\n",
       "      <td>111.000000</td>\n",
       "      <td>111.000000</td>\n",
       "    </tr>\n",
       "    <tr>\n",
       "      <th>mean</th>\n",
       "      <td>2011.864865</td>\n",
       "      <td>50.447748</td>\n",
       "    </tr>\n",
       "    <tr>\n",
       "      <th>std</th>\n",
       "      <td>6.147411</td>\n",
       "      <td>59.167349</td>\n",
       "    </tr>\n",
       "    <tr>\n",
       "      <th>min</th>\n",
       "      <td>1996.000000</td>\n",
       "      <td>2.000000</td>\n",
       "    </tr>\n",
       "    <tr>\n",
       "      <th>25%</th>\n",
       "      <td>2007.000000</td>\n",
       "      <td>10.000000</td>\n",
       "    </tr>\n",
       "    <tr>\n",
       "      <th>50%</th>\n",
       "      <td>2012.000000</td>\n",
       "      <td>24.200000</td>\n",
       "    </tr>\n",
       "    <tr>\n",
       "      <th>75%</th>\n",
       "      <td>2018.000000</td>\n",
       "      <td>60.000000</td>\n",
       "    </tr>\n",
       "    <tr>\n",
       "      <th>max</th>\n",
       "      <td>2021.000000</td>\n",
       "      <td>250.000000</td>\n",
       "    </tr>\n",
       "  </tbody>\n",
       "</table>\n",
       "</div>"
      ],
      "text/plain": [
       "              year  units_sold_m\n",
       "count   111.000000    111.000000\n",
       "mean   2011.864865     50.447748\n",
       "std       6.147411     59.167349\n",
       "min    1996.000000      2.000000\n",
       "25%    2007.000000     10.000000\n",
       "50%    2012.000000     24.200000\n",
       "75%    2018.000000     60.000000\n",
       "max    2021.000000    250.000000"
      ]
     },
     "execution_count": 7,
     "metadata": {},
     "output_type": "execute_result"
    }
   ],
   "source": [
    "df.describe()"
   ]
  },
  {
   "cell_type": "markdown",
   "id": "42410243",
   "metadata": {
    "papermill": {
     "duration": 0.027947,
     "end_time": "2023-09-08T07:35:04.445414",
     "exception": false,
     "start_time": "2023-09-08T07:35:04.417467",
     "status": "completed"
    },
    "tags": []
   },
   "source": [
    "Get the sorted values of sold items"
   ]
  },
  {
   "cell_type": "code",
   "execution_count": 8,
   "id": "0ceadcc1",
   "metadata": {
    "execution": {
     "iopub.execute_input": "2023-09-08T07:35:04.503807Z",
     "iopub.status.busy": "2023-09-08T07:35:04.502862Z",
     "iopub.status.idle": "2023-09-08T07:35:04.508048Z",
     "shell.execute_reply": "2023-09-08T07:35:04.507381Z"
    },
    "papermill": {
     "duration": 0.036317,
     "end_time": "2023-09-08T07:35:04.510032",
     "exception": false,
     "start_time": "2023-09-08T07:35:04.473715",
     "status": "completed"
    },
    "tags": []
   },
   "outputs": [],
   "source": [
    "df_sorted = df.sort_values('units_sold_m', ascending = False)"
   ]
  },
  {
   "cell_type": "code",
   "execution_count": 9,
   "id": "adac5bca",
   "metadata": {
    "execution": {
     "iopub.execute_input": "2023-09-08T07:35:04.567739Z",
     "iopub.status.busy": "2023-09-08T07:35:04.567426Z",
     "iopub.status.idle": "2023-09-08T07:35:04.582214Z",
     "shell.execute_reply": "2023-09-08T07:35:04.581658Z"
    },
    "papermill": {
     "duration": 0.045796,
     "end_time": "2023-09-08T07:35:04.584090",
     "exception": false,
     "start_time": "2023-09-08T07:35:04.538294",
     "status": "completed"
    },
    "tags": []
   },
   "outputs": [
    {
     "data": {
      "text/html": [
       "<div>\n",
       "<style scoped>\n",
       "    .dataframe tbody tr th:only-of-type {\n",
       "        vertical-align: middle;\n",
       "    }\n",
       "\n",
       "    .dataframe tbody tr th {\n",
       "        vertical-align: top;\n",
       "    }\n",
       "\n",
       "    .dataframe thead th {\n",
       "        text-align: right;\n",
       "    }\n",
       "</style>\n",
       "<table border=\"1\" class=\"dataframe\">\n",
       "  <thead>\n",
       "    <tr style=\"text-align: right;\">\n",
       "      <th></th>\n",
       "      <th>manufacturer</th>\n",
       "      <th>model</th>\n",
       "      <th>form</th>\n",
       "      <th>smartphone</th>\n",
       "      <th>year</th>\n",
       "      <th>units_sold_m</th>\n",
       "    </tr>\n",
       "  </thead>\n",
       "  <tbody>\n",
       "    <tr>\n",
       "      <th>0</th>\n",
       "      <td>Nokia</td>\n",
       "      <td>1100</td>\n",
       "      <td>Bar</td>\n",
       "      <td>No</td>\n",
       "      <td>2003</td>\n",
       "      <td>250.0</td>\n",
       "    </tr>\n",
       "    <tr>\n",
       "      <th>1</th>\n",
       "      <td>Nokia</td>\n",
       "      <td>1110</td>\n",
       "      <td>Bar</td>\n",
       "      <td>No</td>\n",
       "      <td>2005</td>\n",
       "      <td>247.5</td>\n",
       "    </tr>\n",
       "    <tr>\n",
       "      <th>2</th>\n",
       "      <td>Apple</td>\n",
       "      <td>iPhone 6 and iPhone 6 Plus</td>\n",
       "      <td>Touchscreen</td>\n",
       "      <td>Yes</td>\n",
       "      <td>2014</td>\n",
       "      <td>224.0</td>\n",
       "    </tr>\n",
       "    <tr>\n",
       "      <th>3</th>\n",
       "      <td>Nokia</td>\n",
       "      <td>105 (2013), 105 (2015)</td>\n",
       "      <td>Bar</td>\n",
       "      <td>No</td>\n",
       "      <td>2013</td>\n",
       "      <td>200.0</td>\n",
       "    </tr>\n",
       "    <tr>\n",
       "      <th>4</th>\n",
       "      <td>Apple</td>\n",
       "      <td>iPhone 6S and iPhone 6S Plus</td>\n",
       "      <td>Touchscreen</td>\n",
       "      <td>Yes</td>\n",
       "      <td>2015</td>\n",
       "      <td>174.1</td>\n",
       "    </tr>\n",
       "    <tr>\n",
       "      <th>...</th>\n",
       "      <td>...</td>\n",
       "      <td>...</td>\n",
       "      <td>...</td>\n",
       "      <td>...</td>\n",
       "      <td>...</td>\n",
       "      <td>...</td>\n",
       "    </tr>\n",
       "    <tr>\n",
       "      <th>106</th>\n",
       "      <td>LG</td>\n",
       "      <td>G2</td>\n",
       "      <td>Touchscreen</td>\n",
       "      <td>Yes</td>\n",
       "      <td>2013</td>\n",
       "      <td>3.0</td>\n",
       "    </tr>\n",
       "    <tr>\n",
       "      <th>107</th>\n",
       "      <td>LeTV</td>\n",
       "      <td>LeEco Le 1s</td>\n",
       "      <td>Touchscreen</td>\n",
       "      <td>Yes</td>\n",
       "      <td>2016</td>\n",
       "      <td>3.0</td>\n",
       "    </tr>\n",
       "    <tr>\n",
       "      <th>108</th>\n",
       "      <td>Google</td>\n",
       "      <td>Pixel and Pixel XL</td>\n",
       "      <td>Touchscreen</td>\n",
       "      <td>Yes</td>\n",
       "      <td>2016</td>\n",
       "      <td>2.1</td>\n",
       "    </tr>\n",
       "    <tr>\n",
       "      <th>109</th>\n",
       "      <td>Palm</td>\n",
       "      <td>Centro</td>\n",
       "      <td>Keyboard bar</td>\n",
       "      <td>Yes</td>\n",
       "      <td>2007</td>\n",
       "      <td>2.0</td>\n",
       "    </tr>\n",
       "    <tr>\n",
       "      <th>110</th>\n",
       "      <td>Nokia</td>\n",
       "      <td>N97</td>\n",
       "      <td>Tilt slider</td>\n",
       "      <td>Yes</td>\n",
       "      <td>2009</td>\n",
       "      <td>2.0</td>\n",
       "    </tr>\n",
       "  </tbody>\n",
       "</table>\n",
       "<p>111 rows × 6 columns</p>\n",
       "</div>"
      ],
      "text/plain": [
       "    manufacturer                         model          form smartphone  year  \\\n",
       "0          Nokia                          1100           Bar         No  2003   \n",
       "1          Nokia                          1110           Bar         No  2005   \n",
       "2          Apple    iPhone 6 and iPhone 6 Plus   Touchscreen        Yes  2014   \n",
       "3          Nokia        105 (2013), 105 (2015)           Bar         No  2013   \n",
       "4          Apple  iPhone 6S and iPhone 6S Plus   Touchscreen        Yes  2015   \n",
       "..           ...                           ...           ...        ...   ...   \n",
       "106           LG                            G2   Touchscreen        Yes  2013   \n",
       "107         LeTV                   LeEco Le 1s   Touchscreen        Yes  2016   \n",
       "108       Google            Pixel and Pixel XL   Touchscreen        Yes  2016   \n",
       "109         Palm                        Centro  Keyboard bar        Yes  2007   \n",
       "110        Nokia                           N97   Tilt slider        Yes  2009   \n",
       "\n",
       "     units_sold_m  \n",
       "0           250.0  \n",
       "1           247.5  \n",
       "2           224.0  \n",
       "3           200.0  \n",
       "4           174.1  \n",
       "..            ...  \n",
       "106           3.0  \n",
       "107           3.0  \n",
       "108           2.1  \n",
       "109           2.0  \n",
       "110           2.0  \n",
       "\n",
       "[111 rows x 6 columns]"
      ]
     },
     "execution_count": 9,
     "metadata": {},
     "output_type": "execute_result"
    }
   ],
   "source": [
    "df_sorted"
   ]
  },
  {
   "cell_type": "markdown",
   "id": "67b8f663",
   "metadata": {
    "papermill": {
     "duration": 0.028956,
     "end_time": "2023-09-08T07:35:04.642225",
     "exception": false,
     "start_time": "2023-09-08T07:35:04.613269",
     "status": "completed"
    },
    "tags": []
   },
   "source": [
    "# 2. Lets do the Data Analysis"
   ]
  },
  {
   "cell_type": "code",
   "execution_count": 10,
   "id": "ce305dbf",
   "metadata": {
    "execution": {
     "iopub.execute_input": "2023-09-08T07:35:04.701897Z",
     "iopub.status.busy": "2023-09-08T07:35:04.701462Z",
     "iopub.status.idle": "2023-09-08T07:35:04.713245Z",
     "shell.execute_reply": "2023-09-08T07:35:04.712687Z"
    },
    "papermill": {
     "duration": 0.044258,
     "end_time": "2023-09-08T07:35:04.715166",
     "exception": false,
     "start_time": "2023-09-08T07:35:04.670908",
     "status": "completed"
    },
    "tags": []
   },
   "outputs": [
    {
     "data": {
      "text/html": [
       "<div>\n",
       "<style scoped>\n",
       "    .dataframe tbody tr th:only-of-type {\n",
       "        vertical-align: middle;\n",
       "    }\n",
       "\n",
       "    .dataframe tbody tr th {\n",
       "        vertical-align: top;\n",
       "    }\n",
       "\n",
       "    .dataframe thead th {\n",
       "        text-align: right;\n",
       "    }\n",
       "</style>\n",
       "<table border=\"1\" class=\"dataframe\">\n",
       "  <thead>\n",
       "    <tr style=\"text-align: right;\">\n",
       "      <th></th>\n",
       "      <th>manufacturer</th>\n",
       "      <th>model</th>\n",
       "      <th>form</th>\n",
       "      <th>smartphone</th>\n",
       "      <th>year</th>\n",
       "      <th>units_sold_m</th>\n",
       "    </tr>\n",
       "  </thead>\n",
       "  <tbody>\n",
       "    <tr>\n",
       "      <th>0</th>\n",
       "      <td>Nokia</td>\n",
       "      <td>1100</td>\n",
       "      <td>Bar</td>\n",
       "      <td>No</td>\n",
       "      <td>2003</td>\n",
       "      <td>250.0</td>\n",
       "    </tr>\n",
       "    <tr>\n",
       "      <th>1</th>\n",
       "      <td>Nokia</td>\n",
       "      <td>1110</td>\n",
       "      <td>Bar</td>\n",
       "      <td>No</td>\n",
       "      <td>2005</td>\n",
       "      <td>247.5</td>\n",
       "    </tr>\n",
       "    <tr>\n",
       "      <th>2</th>\n",
       "      <td>Apple</td>\n",
       "      <td>iPhone 6 and iPhone 6 Plus</td>\n",
       "      <td>Touchscreen</td>\n",
       "      <td>Yes</td>\n",
       "      <td>2014</td>\n",
       "      <td>224.0</td>\n",
       "    </tr>\n",
       "    <tr>\n",
       "      <th>3</th>\n",
       "      <td>Nokia</td>\n",
       "      <td>105 (2013), 105 (2015)</td>\n",
       "      <td>Bar</td>\n",
       "      <td>No</td>\n",
       "      <td>2013</td>\n",
       "      <td>200.0</td>\n",
       "    </tr>\n",
       "    <tr>\n",
       "      <th>4</th>\n",
       "      <td>Apple</td>\n",
       "      <td>iPhone 6S and iPhone 6S Plus</td>\n",
       "      <td>Touchscreen</td>\n",
       "      <td>Yes</td>\n",
       "      <td>2015</td>\n",
       "      <td>174.1</td>\n",
       "    </tr>\n",
       "    <tr>\n",
       "      <th>5</th>\n",
       "      <td>Apple</td>\n",
       "      <td>iPhone 5S</td>\n",
       "      <td>Touchscreen</td>\n",
       "      <td>Yes</td>\n",
       "      <td>2013</td>\n",
       "      <td>164.5</td>\n",
       "    </tr>\n",
       "    <tr>\n",
       "      <th>6</th>\n",
       "      <td>Nokia</td>\n",
       "      <td>3210</td>\n",
       "      <td>Bar</td>\n",
       "      <td>No</td>\n",
       "      <td>1999</td>\n",
       "      <td>161.0</td>\n",
       "    </tr>\n",
       "    <tr>\n",
       "      <th>7</th>\n",
       "      <td>Apple</td>\n",
       "      <td>iPhone 7 and iPhone 7 Plus</td>\n",
       "      <td>Touchscreen</td>\n",
       "      <td>Yes</td>\n",
       "      <td>2016</td>\n",
       "      <td>159.9</td>\n",
       "    </tr>\n",
       "    <tr>\n",
       "      <th>8</th>\n",
       "      <td>Apple</td>\n",
       "      <td>iPhone 11, iPhone 11 Pro and iPhone 11 Pro Max</td>\n",
       "      <td>Touchscreen</td>\n",
       "      <td>Yes</td>\n",
       "      <td>2019</td>\n",
       "      <td>159.2</td>\n",
       "    </tr>\n",
       "    <tr>\n",
       "      <th>9</th>\n",
       "      <td>Apple</td>\n",
       "      <td>iPhone XR, iPhone XS and iPhone XS Max</td>\n",
       "      <td>Touchscreen</td>\n",
       "      <td>Yes</td>\n",
       "      <td>2018</td>\n",
       "      <td>151.1</td>\n",
       "    </tr>\n",
       "  </tbody>\n",
       "</table>\n",
       "</div>"
      ],
      "text/plain": [
       "  manufacturer                                           model         form  \\\n",
       "0        Nokia                                            1100          Bar   \n",
       "1        Nokia                                            1110          Bar   \n",
       "2        Apple                      iPhone 6 and iPhone 6 Plus  Touchscreen   \n",
       "3        Nokia                          105 (2013), 105 (2015)          Bar   \n",
       "4        Apple                    iPhone 6S and iPhone 6S Plus  Touchscreen   \n",
       "5        Apple                                       iPhone 5S  Touchscreen   \n",
       "6        Nokia                                            3210          Bar   \n",
       "7        Apple                      iPhone 7 and iPhone 7 Plus  Touchscreen   \n",
       "8        Apple  iPhone 11, iPhone 11 Pro and iPhone 11 Pro Max  Touchscreen   \n",
       "9        Apple          iPhone XR, iPhone XS and iPhone XS Max  Touchscreen   \n",
       "\n",
       "  smartphone  year  units_sold_m  \n",
       "0         No  2003         250.0  \n",
       "1         No  2005         247.5  \n",
       "2        Yes  2014         224.0  \n",
       "3         No  2013         200.0  \n",
       "4        Yes  2015         174.1  \n",
       "5        Yes  2013         164.5  \n",
       "6         No  1999         161.0  \n",
       "7        Yes  2016         159.9  \n",
       "8        Yes  2019         159.2  \n",
       "9        Yes  2018         151.1  "
      ]
     },
     "execution_count": 10,
     "metadata": {},
     "output_type": "execute_result"
    }
   ],
   "source": [
    "top_10 = df.head(10) #top 10 most sold phones\n",
    "top_10"
   ]
  },
  {
   "cell_type": "code",
   "execution_count": 11,
   "id": "a409e650",
   "metadata": {
    "execution": {
     "iopub.execute_input": "2023-09-08T07:35:04.776045Z",
     "iopub.status.busy": "2023-09-08T07:35:04.775621Z",
     "iopub.status.idle": "2023-09-08T07:35:04.782442Z",
     "shell.execute_reply": "2023-09-08T07:35:04.781576Z"
    },
    "papermill": {
     "duration": 0.039651,
     "end_time": "2023-09-08T07:35:04.784405",
     "exception": false,
     "start_time": "2023-09-08T07:35:04.744754",
     "status": "completed"
    },
    "tags": []
   },
   "outputs": [
    {
     "data": {
      "text/plain": [
       "Apple    6\n",
       "Nokia    4\n",
       "Name: manufacturer, dtype: int64"
      ]
     },
     "execution_count": 11,
     "metadata": {},
     "output_type": "execute_result"
    }
   ],
   "source": [
    "top_10[\"manufacturer\"].value_counts()"
   ]
  },
  {
   "cell_type": "markdown",
   "id": "74441d94",
   "metadata": {
    "papermill": {
     "duration": 0.029587,
     "end_time": "2023-09-08T07:35:04.843963",
     "exception": false,
     "start_time": "2023-09-08T07:35:04.814376",
     "status": "completed"
    },
    "tags": []
   },
   "source": [
    "**Insight:** All the top 10 phones are sold by Nokia and Apple."
   ]
  },
  {
   "cell_type": "code",
   "execution_count": null,
   "id": "649417f8",
   "metadata": {
    "papermill": {
     "duration": 0.029169,
     "end_time": "2023-09-08T07:35:04.902661",
     "exception": false,
     "start_time": "2023-09-08T07:35:04.873492",
     "status": "completed"
    },
    "tags": []
   },
   "outputs": [],
   "source": []
  },
  {
   "cell_type": "markdown",
   "id": "bfd9c8d4",
   "metadata": {
    "papermill": {
     "duration": 0.029275,
     "end_time": "2023-09-08T07:35:04.961923",
     "exception": false,
     "start_time": "2023-09-08T07:35:04.932648",
     "status": "completed"
    },
    "tags": []
   },
   "source": [
    "**Insights**\n",
    "*     The maximum number of units of phones sold by the company is 250 million.\n",
    "*     The minimum number of units of phones sold by the company is 2 million.\n"
   ]
  },
  {
   "cell_type": "code",
   "execution_count": 12,
   "id": "6acce635",
   "metadata": {
    "execution": {
     "iopub.execute_input": "2023-09-08T07:35:05.023455Z",
     "iopub.status.busy": "2023-09-08T07:35:05.022914Z",
     "iopub.status.idle": "2023-09-08T07:35:05.038351Z",
     "shell.execute_reply": "2023-09-08T07:35:05.037518Z"
    },
    "papermill": {
     "duration": 0.049114,
     "end_time": "2023-09-08T07:35:05.040539",
     "exception": false,
     "start_time": "2023-09-08T07:35:04.991425",
     "status": "completed"
    },
    "tags": []
   },
   "outputs": [
    {
     "data": {
      "text/html": [
       "<div>\n",
       "<style scoped>\n",
       "    .dataframe tbody tr th:only-of-type {\n",
       "        vertical-align: middle;\n",
       "    }\n",
       "\n",
       "    .dataframe tbody tr th {\n",
       "        vertical-align: top;\n",
       "    }\n",
       "\n",
       "    .dataframe thead th {\n",
       "        text-align: right;\n",
       "    }\n",
       "</style>\n",
       "<table border=\"1\" class=\"dataframe\">\n",
       "  <thead>\n",
       "    <tr style=\"text-align: right;\">\n",
       "      <th></th>\n",
       "      <th>manufacturer</th>\n",
       "      <th>model</th>\n",
       "      <th>form</th>\n",
       "      <th>smartphone</th>\n",
       "      <th>year</th>\n",
       "      <th>units_sold_m</th>\n",
       "    </tr>\n",
       "  </thead>\n",
       "  <tbody>\n",
       "    <tr>\n",
       "      <th>0</th>\n",
       "      <td>Nokia</td>\n",
       "      <td>1100</td>\n",
       "      <td>Bar</td>\n",
       "      <td>No</td>\n",
       "      <td>2003</td>\n",
       "      <td>250.0</td>\n",
       "    </tr>\n",
       "    <tr>\n",
       "      <th>1</th>\n",
       "      <td>Nokia</td>\n",
       "      <td>1110</td>\n",
       "      <td>Bar</td>\n",
       "      <td>No</td>\n",
       "      <td>2005</td>\n",
       "      <td>247.5</td>\n",
       "    </tr>\n",
       "    <tr>\n",
       "      <th>2</th>\n",
       "      <td>Apple</td>\n",
       "      <td>iPhone 6 and iPhone 6 Plus</td>\n",
       "      <td>Touchscreen</td>\n",
       "      <td>Yes</td>\n",
       "      <td>2014</td>\n",
       "      <td>224.0</td>\n",
       "    </tr>\n",
       "    <tr>\n",
       "      <th>3</th>\n",
       "      <td>Nokia</td>\n",
       "      <td>105 (2013), 105 (2015)</td>\n",
       "      <td>Bar</td>\n",
       "      <td>No</td>\n",
       "      <td>2013</td>\n",
       "      <td>200.0</td>\n",
       "    </tr>\n",
       "    <tr>\n",
       "      <th>4</th>\n",
       "      <td>Apple</td>\n",
       "      <td>iPhone 6S and iPhone 6S Plus</td>\n",
       "      <td>Touchscreen</td>\n",
       "      <td>Yes</td>\n",
       "      <td>2015</td>\n",
       "      <td>174.1</td>\n",
       "    </tr>\n",
       "    <tr>\n",
       "      <th>...</th>\n",
       "      <td>...</td>\n",
       "      <td>...</td>\n",
       "      <td>...</td>\n",
       "      <td>...</td>\n",
       "      <td>...</td>\n",
       "      <td>...</td>\n",
       "    </tr>\n",
       "    <tr>\n",
       "      <th>106</th>\n",
       "      <td>LG</td>\n",
       "      <td>G2</td>\n",
       "      <td>Touchscreen</td>\n",
       "      <td>Yes</td>\n",
       "      <td>2013</td>\n",
       "      <td>3.0</td>\n",
       "    </tr>\n",
       "    <tr>\n",
       "      <th>107</th>\n",
       "      <td>LeTV</td>\n",
       "      <td>LeEco Le 1s</td>\n",
       "      <td>Touchscreen</td>\n",
       "      <td>Yes</td>\n",
       "      <td>2016</td>\n",
       "      <td>3.0</td>\n",
       "    </tr>\n",
       "    <tr>\n",
       "      <th>108</th>\n",
       "      <td>Google</td>\n",
       "      <td>Pixel and Pixel XL</td>\n",
       "      <td>Touchscreen</td>\n",
       "      <td>Yes</td>\n",
       "      <td>2016</td>\n",
       "      <td>2.1</td>\n",
       "    </tr>\n",
       "    <tr>\n",
       "      <th>109</th>\n",
       "      <td>Palm</td>\n",
       "      <td>Centro</td>\n",
       "      <td>Keyboard bar</td>\n",
       "      <td>Yes</td>\n",
       "      <td>2007</td>\n",
       "      <td>2.0</td>\n",
       "    </tr>\n",
       "    <tr>\n",
       "      <th>110</th>\n",
       "      <td>Nokia</td>\n",
       "      <td>N97</td>\n",
       "      <td>Tilt slider</td>\n",
       "      <td>Yes</td>\n",
       "      <td>2009</td>\n",
       "      <td>2.0</td>\n",
       "    </tr>\n",
       "  </tbody>\n",
       "</table>\n",
       "<p>111 rows × 6 columns</p>\n",
       "</div>"
      ],
      "text/plain": [
       "    manufacturer                         model          form smartphone  year  \\\n",
       "0          Nokia                          1100           Bar         No  2003   \n",
       "1          Nokia                          1110           Bar         No  2005   \n",
       "2          Apple    iPhone 6 and iPhone 6 Plus   Touchscreen        Yes  2014   \n",
       "3          Nokia        105 (2013), 105 (2015)           Bar         No  2013   \n",
       "4          Apple  iPhone 6S and iPhone 6S Plus   Touchscreen        Yes  2015   \n",
       "..           ...                           ...           ...        ...   ...   \n",
       "106           LG                            G2   Touchscreen        Yes  2013   \n",
       "107         LeTV                   LeEco Le 1s   Touchscreen        Yes  2016   \n",
       "108       Google            Pixel and Pixel XL   Touchscreen        Yes  2016   \n",
       "109         Palm                        Centro  Keyboard bar        Yes  2007   \n",
       "110        Nokia                           N97   Tilt slider        Yes  2009   \n",
       "\n",
       "     units_sold_m  \n",
       "0           250.0  \n",
       "1           247.5  \n",
       "2           224.0  \n",
       "3           200.0  \n",
       "4           174.1  \n",
       "..            ...  \n",
       "106           3.0  \n",
       "107           3.0  \n",
       "108           2.1  \n",
       "109           2.0  \n",
       "110           2.0  \n",
       "\n",
       "[111 rows x 6 columns]"
      ]
     },
     "execution_count": 12,
     "metadata": {},
     "output_type": "execute_result"
    }
   ],
   "source": [
    "df"
   ]
  },
  {
   "cell_type": "markdown",
   "id": "f4cf0068",
   "metadata": {
    "papermill": {
     "duration": 0.031717,
     "end_time": "2023-09-08T07:35:05.102591",
     "exception": false,
     "start_time": "2023-09-08T07:35:05.070874",
     "status": "completed"
    },
    "tags": []
   },
   "source": [
    "**Insight:**\n",
    "*     Nokia 1100 sold 250 million units.\n",
    "*     Nokia N97 sold 2 million units."
   ]
  },
  {
   "cell_type": "code",
   "execution_count": 13,
   "id": "d2c7423e",
   "metadata": {
    "execution": {
     "iopub.execute_input": "2023-09-08T07:35:05.165603Z",
     "iopub.status.busy": "2023-09-08T07:35:05.165147Z",
     "iopub.status.idle": "2023-09-08T07:35:05.433819Z",
     "shell.execute_reply": "2023-09-08T07:35:05.432983Z"
    },
    "papermill": {
     "duration": 0.302918,
     "end_time": "2023-09-08T07:35:05.436135",
     "exception": false,
     "start_time": "2023-09-08T07:35:05.133217",
     "status": "completed"
    },
    "tags": []
   },
   "outputs": [
    {
     "data": {
      "image/png": "[encoded data removed]",
      "text/plain": [
       "<Figure size 1050x525 with 1 Axes>"
      ]
     },
     "metadata": {
      "needs_background": "light"
     },
     "output_type": "display_data"
    }
   ],
   "source": [
    "plt.figure(figsize=(14,7),dpi=75)\n",
    "sns.countplot(x='manufacturer', data=df, palette='twilight_shifted')\n",
    "plt.xlabel('Count')\n",
    "plt.ylabel('Brand')\n",
    "plt.xticks(rotation=45)\n",
    "plt.title('Which Brand is the top seller?',fontsize = 20)\n",
    "plt.show()\n"
   ]
  },
  {
   "cell_type": "markdown",
   "id": "c47b7f31",
   "metadata": {
    "papermill": {
     "duration": 0.031832,
     "end_time": "2023-09-08T07:35:05.500357",
     "exception": false,
     "start_time": "2023-09-08T07:35:05.468525",
     "status": "completed"
    },
    "tags": []
   },
   "source": [
    "\n",
    "\n",
    "**Insight:**\n",
    "\n",
    "*     By volume, Samsung sold more phones than any other company.\n",
    "*     Nokia is in 2nd place.\n",
    "*     Apple is in 3rd place.\n",
    "\n"
   ]
  },
  {
   "cell_type": "code",
   "execution_count": 14,
   "id": "af5393dd",
   "metadata": {
    "execution": {
     "iopub.execute_input": "2023-09-08T07:35:05.566557Z",
     "iopub.status.busy": "2023-09-08T07:35:05.565956Z",
     "iopub.status.idle": "2023-09-08T07:35:05.573620Z",
     "shell.execute_reply": "2023-09-08T07:35:05.572732Z"
    },
    "papermill": {
     "duration": 0.043342,
     "end_time": "2023-09-08T07:35:05.576137",
     "exception": false,
     "start_time": "2023-09-08T07:35:05.532795",
     "status": "completed"
    },
    "tags": []
   },
   "outputs": [
    {
     "data": {
      "text/plain": [
       "Touchscreen     70\n",
       "Bar             27\n",
       "Slider           6\n",
       "Flip phone       4\n",
       "Keyboard bar     2\n",
       "Taco             1\n",
       "Tilt slider      1\n",
       "Name: form, dtype: int64"
      ]
     },
     "execution_count": 14,
     "metadata": {},
     "output_type": "execute_result"
    }
   ],
   "source": [
    "df[\"form\"].value_counts()"
   ]
  },
  {
   "cell_type": "code",
   "execution_count": 15,
   "id": "9f3f523d",
   "metadata": {
    "execution": {
     "iopub.execute_input": "2023-09-08T07:35:05.642236Z",
     "iopub.status.busy": "2023-09-08T07:35:05.641792Z",
     "iopub.status.idle": "2023-09-08T07:35:05.812368Z",
     "shell.execute_reply": "2023-09-08T07:35:05.811437Z"
    },
    "papermill": {
     "duration": 0.206609,
     "end_time": "2023-09-08T07:35:05.814854",
     "exception": false,
     "start_time": "2023-09-08T07:35:05.608245",
     "status": "completed"
    },
    "tags": []
   },
   "outputs": [
    {
     "data": {
      "image/png": "[encoded data removed]",
      "text/plain": [
       "<Figure size 900x525 with 1 Axes>"
      ]
     },
     "metadata": {
      "needs_background": "light"
     },
     "output_type": "display_data"
    }
   ],
   "source": [
    "plt.figure(figsize=(12,7),dpi=75)\n",
    "sns.countplot(x='form', data=df, palette='twilight_shifted')\n",
    "plt.xlabel('Type')\n",
    "plt.ylabel('Count')\n",
    "plt.xticks(rotation=45)\n",
    "plt.title('Which Brand is the top seller?',fontsize = 20)\n",
    "plt.show()\n"
   ]
  },
  {
   "cell_type": "markdown",
   "id": "80b6eb88",
   "metadata": {
    "papermill": {
     "duration": 0.033305,
     "end_time": "2023-09-08T07:35:05.881540",
     "exception": false,
     "start_time": "2023-09-08T07:35:05.848235",
     "status": "completed"
    },
    "tags": []
   },
   "source": [
    "**Insight:**\n",
    "*     By Form, Touchscreen sold more phones than any other type.\n",
    "*     Bar is in 2nd place."
   ]
  },
  {
   "cell_type": "code",
   "execution_count": 16,
   "id": "04983c44",
   "metadata": {
    "execution": {
     "iopub.execute_input": "2023-09-08T07:35:05.951100Z",
     "iopub.status.busy": "2023-09-08T07:35:05.950531Z",
     "iopub.status.idle": "2023-09-08T07:35:05.958170Z",
     "shell.execute_reply": "2023-09-08T07:35:05.957429Z"
    },
    "papermill": {
     "duration": 0.044446,
     "end_time": "2023-09-08T07:35:05.960172",
     "exception": false,
     "start_time": "2023-09-08T07:35:05.915726",
     "status": "completed"
    },
    "tags": []
   },
   "outputs": [
    {
     "data": {
      "text/plain": [
       "Yes    76\n",
       "No     35\n",
       "Name: smartphone, dtype: int64"
      ]
     },
     "execution_count": 16,
     "metadata": {},
     "output_type": "execute_result"
    }
   ],
   "source": [
    "df[\"smartphone\"].value_counts()"
   ]
  },
  {
   "cell_type": "markdown",
   "id": "a094f72a",
   "metadata": {
    "papermill": {
     "duration": 0.033322,
     "end_time": "2023-09-08T07:35:06.027123",
     "exception": false,
     "start_time": "2023-09-08T07:35:05.993801",
     "status": "completed"
    },
    "tags": []
   },
   "source": [
    "**Insight:**\n",
    "*     76 Out of this 111 Best Mobile Phone is **Smartphone**"
   ]
  },
  {
   "cell_type": "code",
   "execution_count": 17,
   "id": "4951db72",
   "metadata": {
    "execution": {
     "iopub.execute_input": "2023-09-08T07:35:06.096460Z",
     "iopub.status.busy": "2023-09-08T07:35:06.095895Z",
     "iopub.status.idle": "2023-09-08T07:35:06.109561Z",
     "shell.execute_reply": "2023-09-08T07:35:06.108708Z"
    },
    "papermill": {
     "duration": 0.050725,
     "end_time": "2023-09-08T07:35:06.111706",
     "exception": false,
     "start_time": "2023-09-08T07:35:06.060981",
     "status": "completed"
    },
    "tags": []
   },
   "outputs": [
    {
     "data": {
      "text/html": [
       "<div>\n",
       "<style scoped>\n",
       "    .dataframe tbody tr th:only-of-type {\n",
       "        vertical-align: middle;\n",
       "    }\n",
       "\n",
       "    .dataframe tbody tr th {\n",
       "        vertical-align: top;\n",
       "    }\n",
       "\n",
       "    .dataframe thead th {\n",
       "        text-align: right;\n",
       "    }\n",
       "</style>\n",
       "<table border=\"1\" class=\"dataframe\">\n",
       "  <thead>\n",
       "    <tr style=\"text-align: right;\">\n",
       "      <th></th>\n",
       "      <th>manufacturer</th>\n",
       "      <th>model</th>\n",
       "      <th>form</th>\n",
       "      <th>smartphone</th>\n",
       "      <th>year</th>\n",
       "      <th>units_sold_m</th>\n",
       "    </tr>\n",
       "  </thead>\n",
       "  <tbody>\n",
       "    <tr>\n",
       "      <th>0</th>\n",
       "      <td>Nokia</td>\n",
       "      <td>1100</td>\n",
       "      <td>Bar</td>\n",
       "      <td>No</td>\n",
       "      <td>2003</td>\n",
       "      <td>250.0</td>\n",
       "    </tr>\n",
       "    <tr>\n",
       "      <th>1</th>\n",
       "      <td>Nokia</td>\n",
       "      <td>1110</td>\n",
       "      <td>Bar</td>\n",
       "      <td>No</td>\n",
       "      <td>2005</td>\n",
       "      <td>247.5</td>\n",
       "    </tr>\n",
       "    <tr>\n",
       "      <th>2</th>\n",
       "      <td>Apple</td>\n",
       "      <td>iPhone 6 and iPhone 6 Plus</td>\n",
       "      <td>Touchscreen</td>\n",
       "      <td>Yes</td>\n",
       "      <td>2014</td>\n",
       "      <td>224.0</td>\n",
       "    </tr>\n",
       "    <tr>\n",
       "      <th>3</th>\n",
       "      <td>Nokia</td>\n",
       "      <td>105 (2013), 105 (2015)</td>\n",
       "      <td>Bar</td>\n",
       "      <td>No</td>\n",
       "      <td>2013</td>\n",
       "      <td>200.0</td>\n",
       "    </tr>\n",
       "    <tr>\n",
       "      <th>4</th>\n",
       "      <td>Apple</td>\n",
       "      <td>iPhone 6S and iPhone 6S Plus</td>\n",
       "      <td>Touchscreen</td>\n",
       "      <td>Yes</td>\n",
       "      <td>2015</td>\n",
       "      <td>174.1</td>\n",
       "    </tr>\n",
       "    <tr>\n",
       "      <th>5</th>\n",
       "      <td>Apple</td>\n",
       "      <td>iPhone 5S</td>\n",
       "      <td>Touchscreen</td>\n",
       "      <td>Yes</td>\n",
       "      <td>2013</td>\n",
       "      <td>164.5</td>\n",
       "    </tr>\n",
       "    <tr>\n",
       "      <th>6</th>\n",
       "      <td>Nokia</td>\n",
       "      <td>3210</td>\n",
       "      <td>Bar</td>\n",
       "      <td>No</td>\n",
       "      <td>1999</td>\n",
       "      <td>161.0</td>\n",
       "    </tr>\n",
       "    <tr>\n",
       "      <th>7</th>\n",
       "      <td>Apple</td>\n",
       "      <td>iPhone 7 and iPhone 7 Plus</td>\n",
       "      <td>Touchscreen</td>\n",
       "      <td>Yes</td>\n",
       "      <td>2016</td>\n",
       "      <td>159.9</td>\n",
       "    </tr>\n",
       "    <tr>\n",
       "      <th>8</th>\n",
       "      <td>Apple</td>\n",
       "      <td>iPhone 11, iPhone 11 Pro and iPhone 11 Pro Max</td>\n",
       "      <td>Touchscreen</td>\n",
       "      <td>Yes</td>\n",
       "      <td>2019</td>\n",
       "      <td>159.2</td>\n",
       "    </tr>\n",
       "    <tr>\n",
       "      <th>9</th>\n",
       "      <td>Apple</td>\n",
       "      <td>iPhone XR, iPhone XS and iPhone XS Max</td>\n",
       "      <td>Touchscreen</td>\n",
       "      <td>Yes</td>\n",
       "      <td>2018</td>\n",
       "      <td>151.1</td>\n",
       "    </tr>\n",
       "  </tbody>\n",
       "</table>\n",
       "</div>"
      ],
      "text/plain": [
       "  manufacturer                                           model         form  \\\n",
       "0        Nokia                                            1100          Bar   \n",
       "1        Nokia                                            1110          Bar   \n",
       "2        Apple                      iPhone 6 and iPhone 6 Plus  Touchscreen   \n",
       "3        Nokia                          105 (2013), 105 (2015)          Bar   \n",
       "4        Apple                    iPhone 6S and iPhone 6S Plus  Touchscreen   \n",
       "5        Apple                                       iPhone 5S  Touchscreen   \n",
       "6        Nokia                                            3210          Bar   \n",
       "7        Apple                      iPhone 7 and iPhone 7 Plus  Touchscreen   \n",
       "8        Apple  iPhone 11, iPhone 11 Pro and iPhone 11 Pro Max  Touchscreen   \n",
       "9        Apple          iPhone XR, iPhone XS and iPhone XS Max  Touchscreen   \n",
       "\n",
       "  smartphone  year  units_sold_m  \n",
       "0         No  2003         250.0  \n",
       "1         No  2005         247.5  \n",
       "2        Yes  2014         224.0  \n",
       "3         No  2013         200.0  \n",
       "4        Yes  2015         174.1  \n",
       "5        Yes  2013         164.5  \n",
       "6         No  1999         161.0  \n",
       "7        Yes  2016         159.9  \n",
       "8        Yes  2019         159.2  \n",
       "9        Yes  2018         151.1  "
      ]
     },
     "execution_count": 17,
     "metadata": {},
     "output_type": "execute_result"
    }
   ],
   "source": [
    "column_r=['manufacturer','model','units_sold_m']\n",
    "df.head(10)"
   ]
  },
  {
   "cell_type": "markdown",
   "id": "c951f074",
   "metadata": {
    "papermill": {
     "duration": 0.034475,
     "end_time": "2023-09-08T07:35:06.180563",
     "exception": false,
     "start_time": "2023-09-08T07:35:06.146088",
     "status": "completed"
    },
    "tags": []
   },
   "source": [
    "Insight:\n",
    "\n",
    "    * Nokia 1100 is the most Best Selling Phone     \n"
   ]
  }
 ],
 "kernelspec": {
  "display_name": "Python 3",
  "language": "python",
  "name": "python3"
 },
 "language_info": {
  "codemirror_mode": {
   "name": "ipython",
   "version": 3
  },
  "file_extension": ".py",
  "mimetype": "text/x-python",
  "name": "python",
  "nbconvert_exporter": "python",
  "pygments_lexer": "ipython3",
  "version": "3.6.4"
 },
 "metadata": {
  "kernelspec": {
   "display_name": "Python 3",
   "language": "python",
   "name": "python3"
  },
  "language_info": {
   "codemirror_mode": {
    "name": "ipython",
    "version": 3
   },
   "file_extension": ".py",
   "mimetype": "text/x-python",
   "name": "python",
   "nbconvert_exporter": "python",
   "pygments_lexer": "ipython3",
   "version": "3.7.12"
  },
  "papermill": {
   "default_parameters": {},
   "duration": 13.709328,
   "end_time": "2023-09-08T07:35:06.935860",
   "environment_variables": {},
   "exception": null,
   "input_path": "__notebook__.ipynb",
   "output_path": "__notebook__.ipynb",
   "parameters": {},
   "start_time": "2023-09-08T07:34:53.226532",
   "version": "2.3.4"
  }
 },
 "nbformat": 4,
 "nbformat_minor": 5
}
